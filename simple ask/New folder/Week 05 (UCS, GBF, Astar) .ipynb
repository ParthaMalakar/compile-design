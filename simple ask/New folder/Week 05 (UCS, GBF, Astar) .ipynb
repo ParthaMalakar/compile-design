{
 "cells": [
  {
   "cell_type": "markdown",
   "metadata": {
    "id": "d-DKmj30luYm"
   },
   "source": [
    "![map.JPG](attachment:map.JPG)"
   ]
  },
  {
   "cell_type": "code",
   "execution_count": 50,
   "metadata": {
    "executionInfo": {
     "elapsed": 20,
     "status": "ok",
     "timestamp": 1647325855099,
     "user": {
      "displayName": "Ashraf Uddin",
      "photoUrl": "https://lh3.googleusercontent.com/a-/AOh14GjBdAa8YVVeKPAj-6WRIHqgGMOom16hPYcrG5tkEw=s64",
      "userId": "01747740824393644374"
     },
     "user_tz": -360
    },
    "id": "goGfzJW8luYu"
   },
   "outputs": [],
   "source": [
    "rmap = {\n",
    "    'Arad': {'Sibiu':140, 'Zerind':75, 'Timisoara':118},\n",
    "    'Zerind': {'Arad':75, 'Oradea':71},\n",
    "    'Oradea': {'Zerind':71, 'Sibiu': 151},\n",
    "    'Sibiu': {'Arad':140, 'Oradea':151, 'Fagaras':99, 'Rimnicu':80},\n",
    "    'Timisoara': {'Arad': 118, 'Lugoj':111},\n",
    "    'Lugoj': {'Timisoara':111, 'Mehadia':70},\n",
    "    'Mehadia': {'Lugoj': 70, 'Drobeta':75},\n",
    "    'Drobeta': {'Mehadia':75, 'Craiova':120},\n",
    "    'Craiova': {'Drobeta': 120, 'Rimnicu': 146, 'Pitesti': 138},\n",
    "    'Rimnicu': {'Sibiu': 80, 'Craiova': 146, 'Pitesti': 97},\n",
    "    'Fagaras': {'Sibiu':99, 'Bucharest':211},\n",
    "    'Pitesti': {'Rimnicu': 97, 'Craiova':138, 'Bucharest':101},\n",
    "    'Bucharest': {'Fagaras':211, 'Pitesti': 101, 'Giurgiu':90, 'Urziceni':85},\n",
    "    'Giurgiu': {'Bucharest': 90},\n",
    "    'Urziceni': {'Bucharest': 85, 'Vaslui':142, 'Hirsova':98},\n",
    "    'Hirsova': {'Urziceni':98, 'Eforie':86},\n",
    "    'Eforie': {'Hirsova':86},\n",
    "    'Vaslui': {'Iasi': 92, 'Urziceni':142},\n",
    "    'Iasi': {'Vaslui':92, 'Neamt': 87},\n",
    "    'Neamt': {'Iasi':87}\n",
    "}"
   ]
  },
  {
   "cell_type": "markdown",
   "metadata": {
    "id": "KRCzk7hwluYx"
   },
   "source": [
    "# Uniform Cost Search"
   ]
  },
  {
   "cell_type": "code",
   "execution_count": 31,
   "metadata": {
    "executionInfo": {
     "elapsed": 471,
     "status": "ok",
     "timestamp": 1647328068589,
     "user": {
      "displayName": "Ashraf Uddin",
      "photoUrl": "https://lh3.googleusercontent.com/a-/AOh14GjBdAa8YVVeKPAj-6WRIHqgGMOom16hPYcrG5tkEw=s64",
      "userId": "01747740824393644374"
     },
     "user_tz": -360
    },
    "id": "Caz8BtEWluYy"
   },
   "outputs": [],
   "source": [
    "from queue import PriorityQueue\n",
    "\n",
    "\n",
    "def ucs(snode, dnode):\n",
    "    expanded = [] # to store expanded nodes\n",
    "    frontier = PriorityQueue()\n",
    "\n",
    "    node = (0,snode,[snode]) #(g(n) = path cost, city name, path)\n",
    "    frontier.put(node)\n",
    "    \n",
    "    while not frontier.empty():\n",
    "        node = frontier.get() # select a node for expansion\n",
    "        u = node[1] \n",
    "        print()\n",
    "        print(u+ \" selected. Cost: \"+ str(node[0]))\n",
    "        if u == dnode:# goal test            \n",
    "            print(\"*** GOAL TEST SATISFIED ***\")\n",
    "            print()\n",
    "            return node # path\n",
    "        expanded.append(u)\n",
    "        print(u+\" expanding...\")\n",
    "        for v in rmap[u].keys():#expanding            \n",
    "            if v not in expanded:\n",
    "                g = node[0] + rmap[u][v]\n",
    "                path = node[2] + [v]\n",
    "                frontier.put((g,v,path))\n",
    "                print(u + \"->\"+v + \", Path: \"+ str(path) + \", Cost:\"+ str(g))\n",
    "        print(frontier.queue)\n",
    "    print('Failed')"
   ]
  },
  {
   "cell_type": "code",
   "execution_count": 32,
   "metadata": {
    "colab": {
     "base_uri": "https://localhost:8080/"
    },
    "executionInfo": {
     "elapsed": 441,
     "status": "ok",
     "timestamp": 1647328071284,
     "user": {
      "displayName": "Ashraf Uddin",
      "photoUrl": "https://lh3.googleusercontent.com/a-/AOh14GjBdAa8YVVeKPAj-6WRIHqgGMOom16hPYcrG5tkEw=s64",
      "userId": "01747740824393644374"
     },
     "user_tz": -360
    },
    "id": "IwXpwVbKluYz",
    "outputId": "1e631ba3-598a-4e38-f07e-3ab64a3a22ac"
   },
   "outputs": [
    {
     "name": "stdout",
     "output_type": "stream",
     "text": [
      "\n",
      "Arad selected. Cost: 0\n",
      "Arad expanding...\n",
      "Arad->Sibiu, Path: ['Arad', 'Sibiu'], Cost:140\n",
      "Arad->Zerind, Path: ['Arad', 'Zerind'], Cost:75\n",
      "Arad->Timisoara, Path: ['Arad', 'Timisoara'], Cost:118\n",
      "[(75, 'Zerind', ['Arad', 'Zerind']), (140, 'Sibiu', ['Arad', 'Sibiu']), (118, 'Timisoara', ['Arad', 'Timisoara'])]\n",
      "\n",
      "Zerind selected. Cost: 75\n",
      "Zerind expanding...\n",
      "Zerind->Oradea, Path: ['Arad', 'Zerind', 'Oradea'], Cost:146\n",
      "[(118, 'Timisoara', ['Arad', 'Timisoara']), (140, 'Sibiu', ['Arad', 'Sibiu']), (146, 'Oradea', ['Arad', 'Zerind', 'Oradea'])]\n",
      "\n",
      "Timisoara selected. Cost: 118\n",
      "Timisoara expanding...\n",
      "Timisoara->Lugoj, Path: ['Arad', 'Timisoara', 'Lugoj'], Cost:229\n",
      "[(140, 'Sibiu', ['Arad', 'Sibiu']), (146, 'Oradea', ['Arad', 'Zerind', 'Oradea']), (229, 'Lugoj', ['Arad', 'Timisoara', 'Lugoj'])]\n",
      "\n",
      "Sibiu selected. Cost: 140\n",
      "Sibiu expanding...\n",
      "Sibiu->Oradea, Path: ['Arad', 'Sibiu', 'Oradea'], Cost:291\n",
      "Sibiu->Fagaras, Path: ['Arad', 'Sibiu', 'Fagaras'], Cost:239\n",
      "Sibiu->Rimnicu, Path: ['Arad', 'Sibiu', 'Rimnicu'], Cost:220\n",
      "[(146, 'Oradea', ['Arad', 'Zerind', 'Oradea']), (220, 'Rimnicu', ['Arad', 'Sibiu', 'Rimnicu']), (291, 'Oradea', ['Arad', 'Sibiu', 'Oradea']), (239, 'Fagaras', ['Arad', 'Sibiu', 'Fagaras']), (229, 'Lugoj', ['Arad', 'Timisoara', 'Lugoj'])]\n",
      "\n",
      "Oradea selected. Cost: 146\n",
      "Oradea expanding...\n",
      "[(220, 'Rimnicu', ['Arad', 'Sibiu', 'Rimnicu']), (229, 'Lugoj', ['Arad', 'Timisoara', 'Lugoj']), (291, 'Oradea', ['Arad', 'Sibiu', 'Oradea']), (239, 'Fagaras', ['Arad', 'Sibiu', 'Fagaras'])]\n",
      "\n",
      "Rimnicu selected. Cost: 220\n",
      "Rimnicu expanding...\n",
      "Rimnicu->Craiova, Path: ['Arad', 'Sibiu', 'Rimnicu', 'Craiova'], Cost:366\n",
      "Rimnicu->Pitesti, Path: ['Arad', 'Sibiu', 'Rimnicu', 'Pitesti'], Cost:317\n",
      "[(229, 'Lugoj', ['Arad', 'Timisoara', 'Lugoj']), (239, 'Fagaras', ['Arad', 'Sibiu', 'Fagaras']), (291, 'Oradea', ['Arad', 'Sibiu', 'Oradea']), (366, 'Craiova', ['Arad', 'Sibiu', 'Rimnicu', 'Craiova']), (317, 'Pitesti', ['Arad', 'Sibiu', 'Rimnicu', 'Pitesti'])]\n",
      "\n",
      "Lugoj selected. Cost: 229\n",
      "Lugoj expanding...\n",
      "Lugoj->Mehadia, Path: ['Arad', 'Timisoara', 'Lugoj', 'Mehadia'], Cost:299\n",
      "[(239, 'Fagaras', ['Arad', 'Sibiu', 'Fagaras']), (299, 'Mehadia', ['Arad', 'Timisoara', 'Lugoj', 'Mehadia']), (291, 'Oradea', ['Arad', 'Sibiu', 'Oradea']), (366, 'Craiova', ['Arad', 'Sibiu', 'Rimnicu', 'Craiova']), (317, 'Pitesti', ['Arad', 'Sibiu', 'Rimnicu', 'Pitesti'])]\n",
      "\n",
      "Fagaras selected. Cost: 239\n",
      "Fagaras expanding...\n",
      "Fagaras->Bucharest, Path: ['Arad', 'Sibiu', 'Fagaras', 'Bucharest'], Cost:450\n",
      "[(291, 'Oradea', ['Arad', 'Sibiu', 'Oradea']), (299, 'Mehadia', ['Arad', 'Timisoara', 'Lugoj', 'Mehadia']), (317, 'Pitesti', ['Arad', 'Sibiu', 'Rimnicu', 'Pitesti']), (366, 'Craiova', ['Arad', 'Sibiu', 'Rimnicu', 'Craiova']), (450, 'Bucharest', ['Arad', 'Sibiu', 'Fagaras', 'Bucharest'])]\n",
      "\n",
      "Oradea selected. Cost: 291\n",
      "Oradea expanding...\n",
      "[(299, 'Mehadia', ['Arad', 'Timisoara', 'Lugoj', 'Mehadia']), (366, 'Craiova', ['Arad', 'Sibiu', 'Rimnicu', 'Craiova']), (317, 'Pitesti', ['Arad', 'Sibiu', 'Rimnicu', 'Pitesti']), (450, 'Bucharest', ['Arad', 'Sibiu', 'Fagaras', 'Bucharest'])]\n",
      "\n",
      "Mehadia selected. Cost: 299\n",
      "Mehadia expanding...\n",
      "Mehadia->Drobeta, Path: ['Arad', 'Timisoara', 'Lugoj', 'Mehadia', 'Drobeta'], Cost:374\n",
      "[(317, 'Pitesti', ['Arad', 'Sibiu', 'Rimnicu', 'Pitesti']), (366, 'Craiova', ['Arad', 'Sibiu', 'Rimnicu', 'Craiova']), (450, 'Bucharest', ['Arad', 'Sibiu', 'Fagaras', 'Bucharest']), (374, 'Drobeta', ['Arad', 'Timisoara', 'Lugoj', 'Mehadia', 'Drobeta'])]\n",
      "\n",
      "Pitesti selected. Cost: 317\n",
      "Pitesti expanding...\n",
      "Pitesti->Craiova, Path: ['Arad', 'Sibiu', 'Rimnicu', 'Pitesti', 'Craiova'], Cost:455\n",
      "Pitesti->Bucharest, Path: ['Arad', 'Sibiu', 'Rimnicu', 'Pitesti', 'Bucharest'], Cost:418\n",
      "[(366, 'Craiova', ['Arad', 'Sibiu', 'Rimnicu', 'Craiova']), (374, 'Drobeta', ['Arad', 'Timisoara', 'Lugoj', 'Mehadia', 'Drobeta']), (450, 'Bucharest', ['Arad', 'Sibiu', 'Fagaras', 'Bucharest']), (455, 'Craiova', ['Arad', 'Sibiu', 'Rimnicu', 'Pitesti', 'Craiova']), (418, 'Bucharest', ['Arad', 'Sibiu', 'Rimnicu', 'Pitesti', 'Bucharest'])]\n",
      "\n",
      "Craiova selected. Cost: 366\n",
      "Craiova expanding...\n",
      "Craiova->Drobeta, Path: ['Arad', 'Sibiu', 'Rimnicu', 'Craiova', 'Drobeta'], Cost:486\n",
      "[(374, 'Drobeta', ['Arad', 'Timisoara', 'Lugoj', 'Mehadia', 'Drobeta']), (418, 'Bucharest', ['Arad', 'Sibiu', 'Rimnicu', 'Pitesti', 'Bucharest']), (450, 'Bucharest', ['Arad', 'Sibiu', 'Fagaras', 'Bucharest']), (455, 'Craiova', ['Arad', 'Sibiu', 'Rimnicu', 'Pitesti', 'Craiova']), (486, 'Drobeta', ['Arad', 'Sibiu', 'Rimnicu', 'Craiova', 'Drobeta'])]\n",
      "\n",
      "Drobeta selected. Cost: 374\n",
      "Drobeta expanding...\n",
      "[(418, 'Bucharest', ['Arad', 'Sibiu', 'Rimnicu', 'Pitesti', 'Bucharest']), (455, 'Craiova', ['Arad', 'Sibiu', 'Rimnicu', 'Pitesti', 'Craiova']), (450, 'Bucharest', ['Arad', 'Sibiu', 'Fagaras', 'Bucharest']), (486, 'Drobeta', ['Arad', 'Sibiu', 'Rimnicu', 'Craiova', 'Drobeta'])]\n",
      "\n",
      "Bucharest selected. Cost: 418\n",
      "*** GOAL TEST SATISFIED ***\n",
      "\n"
     ]
    },
    {
     "data": {
      "text/plain": [
       "(418, 'Bucharest', ['Arad', 'Sibiu', 'Rimnicu', 'Pitesti', 'Bucharest'])"
      ]
     },
     "execution_count": 32,
     "metadata": {},
     "output_type": "execute_result"
    }
   ],
   "source": [
    "ucs('Arad', 'Bucharest') # change source and destination"
   ]
  },
  {
   "cell_type": "code",
   "execution_count": 33,
   "metadata": {},
   "outputs": [
    {
     "name": "stdout",
     "output_type": "stream",
     "text": [
      "\n",
      "Sibiu selected. Cost: 0\n",
      "Sibiu expanding...\n",
      "Sibiu->Arad, Path: ['Sibiu', 'Arad'], Cost:140\n",
      "Sibiu->Oradea, Path: ['Sibiu', 'Oradea'], Cost:151\n",
      "Sibiu->Fagaras, Path: ['Sibiu', 'Fagaras'], Cost:99\n",
      "Sibiu->Rimnicu, Path: ['Sibiu', 'Rimnicu'], Cost:80\n",
      "[(80, 'Rimnicu', ['Sibiu', 'Rimnicu']), (99, 'Fagaras', ['Sibiu', 'Fagaras']), (140, 'Arad', ['Sibiu', 'Arad']), (151, 'Oradea', ['Sibiu', 'Oradea'])]\n",
      "\n",
      "Rimnicu selected. Cost: 80\n",
      "Rimnicu expanding...\n",
      "Rimnicu->Craiova, Path: ['Sibiu', 'Rimnicu', 'Craiova'], Cost:226\n",
      "Rimnicu->Pitesti, Path: ['Sibiu', 'Rimnicu', 'Pitesti'], Cost:177\n",
      "[(99, 'Fagaras', ['Sibiu', 'Fagaras']), (151, 'Oradea', ['Sibiu', 'Oradea']), (140, 'Arad', ['Sibiu', 'Arad']), (226, 'Craiova', ['Sibiu', 'Rimnicu', 'Craiova']), (177, 'Pitesti', ['Sibiu', 'Rimnicu', 'Pitesti'])]\n",
      "\n",
      "Fagaras selected. Cost: 99\n",
      "Fagaras expanding...\n",
      "Fagaras->Bucharest, Path: ['Sibiu', 'Fagaras', 'Bucharest'], Cost:310\n",
      "[(140, 'Arad', ['Sibiu', 'Arad']), (151, 'Oradea', ['Sibiu', 'Oradea']), (177, 'Pitesti', ['Sibiu', 'Rimnicu', 'Pitesti']), (226, 'Craiova', ['Sibiu', 'Rimnicu', 'Craiova']), (310, 'Bucharest', ['Sibiu', 'Fagaras', 'Bucharest'])]\n",
      "\n",
      "Arad selected. Cost: 140\n",
      "Arad expanding...\n",
      "Arad->Zerind, Path: ['Sibiu', 'Arad', 'Zerind'], Cost:215\n",
      "Arad->Timisoara, Path: ['Sibiu', 'Arad', 'Timisoara'], Cost:258\n",
      "[(151, 'Oradea', ['Sibiu', 'Oradea']), (215, 'Zerind', ['Sibiu', 'Arad', 'Zerind']), (177, 'Pitesti', ['Sibiu', 'Rimnicu', 'Pitesti']), (310, 'Bucharest', ['Sibiu', 'Fagaras', 'Bucharest']), (226, 'Craiova', ['Sibiu', 'Rimnicu', 'Craiova']), (258, 'Timisoara', ['Sibiu', 'Arad', 'Timisoara'])]\n",
      "\n",
      "Oradea selected. Cost: 151\n",
      "Oradea expanding...\n",
      "Oradea->Zerind, Path: ['Sibiu', 'Oradea', 'Zerind'], Cost:222\n",
      "[(177, 'Pitesti', ['Sibiu', 'Rimnicu', 'Pitesti']), (215, 'Zerind', ['Sibiu', 'Arad', 'Zerind']), (222, 'Zerind', ['Sibiu', 'Oradea', 'Zerind']), (310, 'Bucharest', ['Sibiu', 'Fagaras', 'Bucharest']), (226, 'Craiova', ['Sibiu', 'Rimnicu', 'Craiova']), (258, 'Timisoara', ['Sibiu', 'Arad', 'Timisoara'])]\n",
      "\n",
      "Pitesti selected. Cost: 177\n",
      "Pitesti expanding...\n",
      "Pitesti->Craiova, Path: ['Sibiu', 'Rimnicu', 'Pitesti', 'Craiova'], Cost:315\n",
      "Pitesti->Bucharest, Path: ['Sibiu', 'Rimnicu', 'Pitesti', 'Bucharest'], Cost:278\n",
      "[(215, 'Zerind', ['Sibiu', 'Arad', 'Zerind']), (226, 'Craiova', ['Sibiu', 'Rimnicu', 'Craiova']), (222, 'Zerind', ['Sibiu', 'Oradea', 'Zerind']), (310, 'Bucharest', ['Sibiu', 'Fagaras', 'Bucharest']), (258, 'Timisoara', ['Sibiu', 'Arad', 'Timisoara']), (315, 'Craiova', ['Sibiu', 'Rimnicu', 'Pitesti', 'Craiova']), (278, 'Bucharest', ['Sibiu', 'Rimnicu', 'Pitesti', 'Bucharest'])]\n",
      "\n",
      "Zerind selected. Cost: 215\n",
      "Zerind expanding...\n",
      "[(222, 'Zerind', ['Sibiu', 'Oradea', 'Zerind']), (226, 'Craiova', ['Sibiu', 'Rimnicu', 'Craiova']), (278, 'Bucharest', ['Sibiu', 'Rimnicu', 'Pitesti', 'Bucharest']), (310, 'Bucharest', ['Sibiu', 'Fagaras', 'Bucharest']), (258, 'Timisoara', ['Sibiu', 'Arad', 'Timisoara']), (315, 'Craiova', ['Sibiu', 'Rimnicu', 'Pitesti', 'Craiova'])]\n",
      "\n",
      "Zerind selected. Cost: 222\n",
      "Zerind expanding...\n",
      "[(226, 'Craiova', ['Sibiu', 'Rimnicu', 'Craiova']), (258, 'Timisoara', ['Sibiu', 'Arad', 'Timisoara']), (278, 'Bucharest', ['Sibiu', 'Rimnicu', 'Pitesti', 'Bucharest']), (310, 'Bucharest', ['Sibiu', 'Fagaras', 'Bucharest']), (315, 'Craiova', ['Sibiu', 'Rimnicu', 'Pitesti', 'Craiova'])]\n",
      "\n",
      "Craiova selected. Cost: 226\n",
      "Craiova expanding...\n",
      "Craiova->Drobeta, Path: ['Sibiu', 'Rimnicu', 'Craiova', 'Drobeta'], Cost:346\n",
      "[(258, 'Timisoara', ['Sibiu', 'Arad', 'Timisoara']), (310, 'Bucharest', ['Sibiu', 'Fagaras', 'Bucharest']), (278, 'Bucharest', ['Sibiu', 'Rimnicu', 'Pitesti', 'Bucharest']), (315, 'Craiova', ['Sibiu', 'Rimnicu', 'Pitesti', 'Craiova']), (346, 'Drobeta', ['Sibiu', 'Rimnicu', 'Craiova', 'Drobeta'])]\n",
      "\n",
      "Timisoara selected. Cost: 258\n",
      "Timisoara expanding...\n",
      "Timisoara->Lugoj, Path: ['Sibiu', 'Arad', 'Timisoara', 'Lugoj'], Cost:369\n",
      "[(278, 'Bucharest', ['Sibiu', 'Rimnicu', 'Pitesti', 'Bucharest']), (310, 'Bucharest', ['Sibiu', 'Fagaras', 'Bucharest']), (346, 'Drobeta', ['Sibiu', 'Rimnicu', 'Craiova', 'Drobeta']), (315, 'Craiova', ['Sibiu', 'Rimnicu', 'Pitesti', 'Craiova']), (369, 'Lugoj', ['Sibiu', 'Arad', 'Timisoara', 'Lugoj'])]\n",
      "\n",
      "Bucharest selected. Cost: 278\n",
      "*** GOAL TEST SATISFIED ***\n",
      "\n"
     ]
    },
    {
     "data": {
      "text/plain": [
       "(278, 'Bucharest', ['Sibiu', 'Rimnicu', 'Pitesti', 'Bucharest'])"
      ]
     },
     "execution_count": 33,
     "metadata": {},
     "output_type": "execute_result"
    }
   ],
   "source": [
    "ucs('Sibiu', 'Bucharest')"
   ]
  },
  {
   "cell_type": "code",
   "execution_count": 34,
   "metadata": {
    "id": "0mgZy0qRluY1"
   },
   "outputs": [],
   "source": [
    "# insert simulation of the ouput\n"
   ]
  },
  {
   "cell_type": "markdown",
   "metadata": {
    "id": "fKD43fSqluY2"
   },
   "source": [
    "# Greedy Best First Search"
   ]
  },
  {
   "cell_type": "code",
   "execution_count": 35,
   "metadata": {
    "id": "Y355atJ_luY3"
   },
   "outputs": [],
   "source": [
    "# SLD heuristic for the destination (Bucharest)\n",
    "h = {'Arad': 366,'Zerind':  374,'Oradea': 380,'Sibiu': 253,\n",
    "    'Timisoara': 329,'Lugoj': 244,'Mehadia': 241,'Drobeta': 242,\n",
    "    'Craiova': 160,'Rimnicu': 193,'Fagaras': 176,'Pitesti': 100,\n",
    "    'Bucharest': 0,'Giurgiu': 77,'Urziceni': 80,'Hirsova': 151,\n",
    "    'Eforie': 161,'Vaslui': 199,'Iasi': 226,'Neamt': 234\n",
    "} "
   ]
  },
  {
   "cell_type": "code",
   "execution_count": 36,
   "metadata": {
    "_cell_guid": "b1076dfc-b9ad-4769-8c92-a6c4dae69d19",
    "_uuid": "8f2839f25d086af736a60e9eeb907d3b93b6e0e5",
    "id": "h-1PIbWaluY4"
   },
   "outputs": [],
   "source": [
    "from queue import PriorityQueue\n",
    "\n",
    "def gbfs(snode, dnode):\n",
    "    expanded = [] # to store expanded nodes\n",
    "    frontier = PriorityQueue()\n",
    "\n",
    "    snode = (h[snode],snode,[snode],0) # (h, city, path, path cost)\n",
    "    frontier.put(snode)\n",
    "\n",
    "    while not frontier.empty():\n",
    "        node = frontier.get() \n",
    "        u = node[1]\n",
    "        \n",
    "        if u== dnode:#Goal Test            \n",
    "            print(node)\n",
    "            print(expanded)\n",
    "            return node #path\n",
    "        expanded.append(u)\n",
    "        for v in rmap[u].keys():            \n",
    "            if v not in expanded:\n",
    "                g = node[3] + rmap[u][v]\n",
    "                path = node[2]+[v]\n",
    "                frontier.put((h[v],v,path, g))   \n",
    "    print('Failed')"
   ]
  },
  {
   "cell_type": "code",
   "execution_count": 37,
   "metadata": {
    "id": "39lB5KBmluY6",
    "outputId": "9662aebf-5aed-46de-f00c-19f732e3098e"
   },
   "outputs": [
    {
     "name": "stdout",
     "output_type": "stream",
     "text": [
      "(0, 'Bucharest', ['Arad', 'Sibiu', 'Fagaras', 'Bucharest'], 450)\n",
      "['Arad', 'Sibiu', 'Fagaras']\n"
     ]
    },
    {
     "data": {
      "text/plain": [
       "(0, 'Bucharest', ['Arad', 'Sibiu', 'Fagaras', 'Bucharest'], 450)"
      ]
     },
     "execution_count": 37,
     "metadata": {},
     "output_type": "execute_result"
    }
   ],
   "source": [
    "gbfs('Arad', 'Bucharest') # change source only"
   ]
  },
  {
   "cell_type": "code",
   "execution_count": 38,
   "metadata": {},
   "outputs": [
    {
     "name": "stdout",
     "output_type": "stream",
     "text": [
      "(0, 'Bucharest', ['Sibiu', 'Fagaras', 'Bucharest'], 310)\n",
      "['Sibiu', 'Fagaras']\n"
     ]
    },
    {
     "data": {
      "text/plain": [
       "(0, 'Bucharest', ['Sibiu', 'Fagaras', 'Bucharest'], 310)"
      ]
     },
     "execution_count": 38,
     "metadata": {},
     "output_type": "execute_result"
    }
   ],
   "source": [
    "gbfs('Sibiu', 'Bucharest') "
   ]
  },
  {
   "cell_type": "code",
   "execution_count": 39,
   "metadata": {
    "id": "E5uVkp26luY7"
   },
   "outputs": [],
   "source": [
    "# insert simulation of the ouput"
   ]
  },
  {
   "cell_type": "markdown",
   "metadata": {
    "id": "dDpUIOyWluY8"
   },
   "source": [
    "# A*"
   ]
  },
  {
   "cell_type": "code",
   "execution_count": 53,
   "metadata": {
    "id": "ddEDeRqPluY8"
   },
   "outputs": [],
   "source": [
    "from queue import PriorityQueue\n",
    "\n",
    "def AStar(snode, dnode):\n",
    "    expanded = [] # to store expanded nodes\n",
    "    frontier = PriorityQueue()\n",
    "\n",
    "    snode = (h[snode],snode,[snode],0) \n",
    "    frontier.put(snode)\n",
    "\n",
    "    while not frontier.empty():\n",
    "        unode = frontier.get() \n",
    "        u = unode[1]\n",
    "        \n",
    "        if u== dnode:#Goal Test            \n",
    "            print(unode)\n",
    "            print(expanded)\n",
    "            return unode[2] #path\n",
    "        expanded.append(u)\n",
    "        for v in rmap[u].keys():            \n",
    "            if v not in expanded:\n",
    "                cost = unode[3] + rmap[u][v]\n",
    "                path = unode[2]+[v]\n",
    "                frontier.put((h[v]+cost,v,path, cost))\n",
    "                print(v+ \", Cost: \" +str(cost))\n",
    "    print('Failed')"
   ]
  },
  {
   "cell_type": "code",
   "execution_count": 54,
   "metadata": {
    "id": "usP2NEKfluY9"
   },
   "outputs": [
    {
     "name": "stdout",
     "output_type": "stream",
     "text": [
      "Arad, Cost: 140\n",
      "Oradea, Cost: 151\n",
      "Fagaras, Cost: 99\n",
      "Rimnicu, Cost: 80\n",
      "Craiova, Cost: 226\n",
      "Pitesti, Cost: 177\n",
      "Bucharest, Cost: 310\n",
      "Craiova, Cost: 315\n",
      "Bucharest, Cost: 278\n",
      "(278, 'Bucharest', ['Sibiu', 'Rimnicu', 'Pitesti', 'Bucharest'], 278)\n",
      "['Sibiu', 'Rimnicu', 'Fagaras', 'Pitesti']\n"
     ]
    },
    {
     "data": {
      "text/plain": [
       "['Sibiu', 'Rimnicu', 'Pitesti', 'Bucharest']"
      ]
     },
     "execution_count": 54,
     "metadata": {},
     "output_type": "execute_result"
    }
   ],
   "source": [
    "AStar('Sibiu', 'Bucharest')"
   ]
  },
  {
   "cell_type": "code",
   "execution_count": null,
   "metadata": {},
   "outputs": [],
   "source": []
  },
  {
   "cell_type": "code",
   "execution_count": null,
   "metadata": {},
   "outputs": [],
   "source": []
  }
 ],
 "metadata": {
  "colab": {
   "collapsed_sections": [],
   "name": "Week 05 (UCS, GBF, Astar).ipynb",
   "provenance": []
  },
  "kernelspec": {
   "display_name": "Python 3",
   "language": "python",
   "name": "python3"
  },
  "language_info": {
   "codemirror_mode": {
    "name": "ipython",
    "version": 3
   },
   "file_extension": ".py",
   "mimetype": "text/x-python",
   "name": "python",
   "nbconvert_exporter": "python",
   "pygments_lexer": "ipython3",
   "version": "3.8.8"
  }
 },
 "nbformat": 4,
 "nbformat_minor": 1
}
